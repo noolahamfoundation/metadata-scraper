{
 "cells": [
  {
   "cell_type": "code",
   "execution_count": 70,
   "metadata": {},
   "outputs": [],
   "source": [
    "import json\n",
    "from urllib.parse import urlencode\n",
    "from urllib.request import urlopen\n",
    "import mwparserfromhell\n",
    "API_URL = \"https://ta.wiktionary.org//w/api.php\"\n",
    "\n",
    "def parse(title):\n",
    "    data = {\"action\": \"query\", \"prop\": \"revisions\", \"rvlimit\": 1,\n",
    "            \"rvprop\": \"content\", \"format\": \"json\", \"titles\": title}\n",
    "    raw = urlopen(API_URL, urlencode(data).encode()).read()\n",
    "    res = json.loads(raw)\n",
    "    text = list(res[\"query\"][\"pages\"].values())[0][\"revisions\"][0][\"*\"]\n",
    "    return mwparserfromhell.parse(text)"
   ]
  },
  {
   "cell_type": "code",
   "execution_count": 73,
   "metadata": {},
   "outputs": [
    {
     "name": "stdout",
     "output_type": "stream",
     "text": [
      "===வினைச்சொல்===\n",
      "[[படிமம்:Horse gif.gif|thumb|right|210px|'''ஓடு'''தல்]]\n",
      "# கால்களை வேகமாக அசைத்து நகர்வது. \n",
      "# பரிசோதனை 2\n",
      "\n",
      "====மொழிபெயர்ப்புக்கள்====\n",
      "{{பெயர்ப்பு-மேல்|1. கால்களை வேகமாக அசைத்து நகர்வது}}\n",
      "* {{ஆங்கி}}: [[run]]\n",
      "* {{இந்தி}}: [[गलाना]], [[चलाना]]\n",
      "{{பெயர்ப்பு-மூடு}}\n",
      "\n",
      "{{பெயர்ப்பு-மேல்|2. பரிசோதனை 2}}\n",
      "* {{ஆங்கி}}: [[test2]]\n",
      "* {{இந்தி}}: test2hindi\n",
      "{{பெயர்ப்பு-மூடு}}\n",
      "\n",
      "====சொல்வளம்====\n",
      "* [[ஓடு]], [[ஓட்டு]], [[ஓட்டம்]], [[ஓடி]]\n",
      "\n",
      "\n"
     ]
    }
   ],
   "source": [
    "parsed = parse(\"விக்சனரி:கட்டமைக்கப்பட்ட தமிழ் விக்சனரி செயற்திட்டம்/கட்டமைப்புப் பரிந்துரைகள் நோக்கி/எ.கா1\")\n",
    "sections = parsed.get_sections()\n",
    "\n",
    "print(sections[2])"
   ]
  },
  {
   "cell_type": "code",
   "execution_count": null,
   "metadata": {
    "collapsed": true
   },
   "outputs": [],
   "source": []
  }
 ],
 "metadata": {
  "kernelspec": {
   "display_name": "Python 3",
   "language": "python",
   "name": "python3"
  },
  "language_info": {
   "codemirror_mode": {
    "name": "ipython",
    "version": 3
   },
   "file_extension": ".py",
   "mimetype": "text/x-python",
   "name": "python",
   "nbconvert_exporter": "python",
   "pygments_lexer": "ipython3",
   "version": "3.6.3"
  }
 },
 "nbformat": 4,
 "nbformat_minor": 2
}
