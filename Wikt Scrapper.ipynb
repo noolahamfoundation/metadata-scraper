{
 "cells": [
  {
   "cell_type": "markdown",
   "metadata": {},
   "source": [
    "## Wikt Scrapper\n",
    "* Name: Natkeeran L.K\n",
    "* License: CC-BY-SA"
   ]
  },
  {
   "cell_type": "code",
   "execution_count": 103,
   "metadata": {},
   "outputs": [],
   "source": [
    "# -*- coding: utf-8 -*-\n",
    "from urllib.request import urlopen\n",
    "from urllib.parse import quote  \n",
    "from bs4 import BeautifulSoup\n",
    "import numpy as np\n",
    "import pandas as pd\n",
    "import re"
   ]
  },
  {
   "cell_type": "code",
   "execution_count": 104,
   "metadata": {},
   "outputs": [],
   "source": [
    "def get_page(page_url):\n",
    "    page = urlopen(page_url)\n",
    "    soup = BeautifulSoup(page, \"html.parser\")\n",
    "    return soup"
   ]
  },
  {
   "cell_type": "code",
   "execution_count": 105,
   "metadata": {
    "collapsed": true
   },
   "outputs": [],
   "source": [
    "def get_pos_section(page, pos_type, language):\n",
    "    tamil_section = page.find(\"span\", attrs={\"id\": language})\n",
    "    pos_section = page.find(\"span\", attrs={\"id\": pos_type}).parent\n",
    "    return pos_section"
   ]
  },
  {
   "cell_type": "code",
   "execution_count": 106,
   "metadata": {},
   "outputs": [],
   "source": [
    "def get_pos_definitions(pos_section):\n",
    "    definitions_list = pos_section.findNext('ol')\n",
    "    definitions = definitions_list.findAll('li')\n",
    "    text_definitions = []\n",
    "    \n",
    "    for item in definitions:\n",
    "        definition = item.text.strip()\n",
    "        text_definitions.append(definition) \n",
    "    return text_definitions "
   ]
  },
  {
   "cell_type": "code",
   "execution_count": 107,
   "metadata": {
    "collapsed": true
   },
   "outputs": [],
   "source": [
    "def get_pos_translations(pos_section):\n",
    "    translations = pos_section.findNext(\"span\", attrs={\"id\": re.compile(\"மொழிபெயர்ப்புக்கள்*\")})\n",
    "    translation_tables = pos_section.findNext(\"table\", attrs={\"class\": re.compile(\"translations\")})\n",
    "    \n",
    "    <table border=\"0\" width=\"100%\" class=\"translations\">\n",
    "    \n",
    "    print(translations)"
   ]
  },
  {
   "cell_type": "code",
   "execution_count": 108,
   "metadata": {},
   "outputs": [
    {
     "name": "stdout",
     "output_type": "stream",
     "text": [
      "['கால்களை வேகமாக அசைத்து நகர்வது.', 'பரிசோதனை 2']\n",
      "<span class=\"mw-headline\" id=\"மொழிபெயர்ப்புக்கள்\">மொழிபெயர்ப்புக்கள்</span>\n",
      "['கூரையில் வேயப் பயன்படும் சுடப்பட்ட மண் பொருள்.', 'தோடு']\n",
      "<span class=\"mw-headline\" id=\"மொழிபெயர்ப்புக்கள்_2\">மொழிபெயர்ப்புக்கள்</span>\n"
     ]
    }
   ],
   "source": [
    "page_name = \"விக்சனரி:கட்டமைக்கப்பட்ட_தமிழ்_விக்சனரி_செயற்திட்டம்/கட்டமைப்புப்_பரிந்துரைகள்_நோக்கி/எ.கா1\"\n",
    "page_url = \"https://ta.wiktionary.org/wiki/\" + quote(page_name) + \"?printable=yes\"\n",
    "language = \"தமிழ்\"\n",
    "\n",
    "page = get_page(page_url)\n",
    "\n",
    "pos_type = \"வினைச்சொல்\"\n",
    "pos_section = get_pos_section(page, pos_type, language)\n",
    "definitions = get_pos_definitions(pos_section)\n",
    "print (definitions)\n",
    "get_pos_translations(pos_section)\n",
    "\n",
    "pos_type = \"பெயர்ச்சொல்\"\n",
    "pos_section = get_pos_section(page, pos_type, language)\n",
    "definitions = get_pos_definitions(pos_section)\n",
    "print (definitions)\n",
    "get_pos_translations(pos_section)\n"
   ]
  },
  {
   "cell_type": "code",
   "execution_count": null,
   "metadata": {
    "collapsed": true
   },
   "outputs": [],
   "source": []
  },
  {
   "cell_type": "code",
   "execution_count": null,
   "metadata": {
    "collapsed": true
   },
   "outputs": [],
   "source": []
  }
 ],
 "metadata": {
  "kernelspec": {
   "display_name": "Python 3",
   "language": "python",
   "name": "python3"
  },
  "language_info": {
   "codemirror_mode": {
    "name": "ipython",
    "version": 3
   },
   "file_extension": ".py",
   "mimetype": "text/x-python",
   "name": "python",
   "nbconvert_exporter": "python",
   "pygments_lexer": "ipython3",
   "version": "3.6.3"
  }
 },
 "nbformat": 4,
 "nbformat_minor": 2
}
